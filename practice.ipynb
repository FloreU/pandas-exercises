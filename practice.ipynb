{
 "cells": [
  {
   "cell_type": "code",
   "execution_count": 1,
   "metadata": {
    "collapsed": true
   },
   "outputs": [],
   "source": [
    "from pandas import*\n",
    "import pandas\n",
    "import matplotlib as mpl\n",
    "import numpy as np\n",
    "\n",
    "import sys\n",
    "reload(sys) \n",
    "sys.setdefaultencoding('utf8')\n",
    "sys.getdefaultencoding()\n",
    "\n",
    "%matplotlib inline"
   ]
  },
  {
   "cell_type": "code",
   "execution_count": 2,
   "metadata": {},
   "outputs": [
    {
     "data": {
      "text/plain": [
       "'UTF-8'"
      ]
     },
     "execution_count": 2,
     "metadata": {},
     "output_type": "execute_result"
    }
   ],
   "source": [
    "import locale\n",
    "locale.getpreferredencoding()"
   ]
  },
  {
   "cell_type": "code",
   "execution_count": 3,
   "metadata": {},
   "outputs": [
    {
     "data": {
      "text/html": [
       "<div>\n",
       "<table border=\"1\" class=\"dataframe\">\n",
       "  <thead>\n",
       "    <tr style=\"text-align: right;\">\n",
       "      <th></th>\n",
       "      <th>year</th>\n",
       "      <th>name</th>\n",
       "      <th>prop</th>\n",
       "      <th>sex</th>\n",
       "      <th>soundex</th>\n",
       "    </tr>\n",
       "  </thead>\n",
       "  <tbody>\n",
       "    <tr>\n",
       "      <th>0</th>\n",
       "      <td>1880</td>\n",
       "      <td>John</td>\n",
       "      <td>0.081541</td>\n",
       "      <td>boy</td>\n",
       "      <td>J500</td>\n",
       "    </tr>\n",
       "    <tr>\n",
       "      <th>1</th>\n",
       "      <td>1880</td>\n",
       "      <td>William</td>\n",
       "      <td>0.080511</td>\n",
       "      <td>boy</td>\n",
       "      <td>W450</td>\n",
       "    </tr>\n",
       "    <tr>\n",
       "      <th>2</th>\n",
       "      <td>1880</td>\n",
       "      <td>James</td>\n",
       "      <td>0.050057</td>\n",
       "      <td>boy</td>\n",
       "      <td>J520</td>\n",
       "    </tr>\n",
       "    <tr>\n",
       "      <th>3</th>\n",
       "      <td>1880</td>\n",
       "      <td>Charles</td>\n",
       "      <td>0.045167</td>\n",
       "      <td>boy</td>\n",
       "      <td>C642</td>\n",
       "    </tr>\n",
       "    <tr>\n",
       "      <th>4</th>\n",
       "      <td>1880</td>\n",
       "      <td>George</td>\n",
       "      <td>0.043292</td>\n",
       "      <td>boy</td>\n",
       "      <td>G620</td>\n",
       "    </tr>\n",
       "  </tbody>\n",
       "</table>\n",
       "</div>"
      ],
      "text/plain": [
       "   year     name      prop  sex soundex\n",
       "0  1880     John  0.081541  boy    J500\n",
       "1  1880  William  0.080511  boy    W450\n",
       "2  1880    James  0.050057  boy    J520\n",
       "3  1880  Charles  0.045167  boy    C642\n",
       "4  1880   George  0.043292  boy    G620"
      ]
     },
     "execution_count": 3,
     "metadata": {},
     "output_type": "execute_result"
    }
   ],
   "source": [
    "names = read_csv('baby-names2.csv')\n",
    "names.head()"
   ]
  },
  {
   "cell_type": "code",
   "execution_count": 4,
   "metadata": {},
   "outputs": [
    {
     "data": {
      "text/html": [
       "<div>\n",
       "<table border=\"1\" class=\"dataframe\">\n",
       "  <thead>\n",
       "    <tr style=\"text-align: right;\">\n",
       "      <th></th>\n",
       "      <th>year</th>\n",
       "      <th>name</th>\n",
       "      <th>prop</th>\n",
       "      <th>sex</th>\n",
       "      <th>soundex</th>\n",
       "    </tr>\n",
       "  </thead>\n",
       "  <tbody>\n",
       "    <tr>\n",
       "      <th>11806</th>\n",
       "      <td>1891</td>\n",
       "      <td>Kent</td>\n",
       "      <td>0.000064</td>\n",
       "      <td>boy</td>\n",
       "      <td>K530</td>\n",
       "    </tr>\n",
       "    <tr>\n",
       "      <th>13799</th>\n",
       "      <td>1893</td>\n",
       "      <td>Kent</td>\n",
       "      <td>0.000066</td>\n",
       "      <td>boy</td>\n",
       "      <td>K530</td>\n",
       "    </tr>\n",
       "    <tr>\n",
       "      <th>23962</th>\n",
       "      <td>1903</td>\n",
       "      <td>Kent</td>\n",
       "      <td>0.000054</td>\n",
       "      <td>boy</td>\n",
       "      <td>K530</td>\n",
       "    </tr>\n",
       "    <tr>\n",
       "      <th>28917</th>\n",
       "      <td>1908</td>\n",
       "      <td>Kent</td>\n",
       "      <td>0.000060</td>\n",
       "      <td>boy</td>\n",
       "      <td>K530</td>\n",
       "    </tr>\n",
       "    <tr>\n",
       "      <th>29819</th>\n",
       "      <td>1909</td>\n",
       "      <td>Kent</td>\n",
       "      <td>0.000074</td>\n",
       "      <td>boy</td>\n",
       "      <td>K530</td>\n",
       "    </tr>\n",
       "  </tbody>\n",
       "</table>\n",
       "</div>"
      ],
      "text/plain": [
       "       year  name      prop  sex soundex\n",
       "11806  1891  Kent  0.000064  boy    K530\n",
       "13799  1893  Kent  0.000066  boy    K530\n",
       "23962  1903  Kent  0.000054  boy    K530\n",
       "28917  1908  Kent  0.000060  boy    K530\n",
       "29819  1909  Kent  0.000074  boy    K530"
      ]
     },
     "execution_count": 4,
     "metadata": {},
     "output_type": "execute_result"
    }
   ],
   "source": [
    "names[names.name == 'Kent'].head()"
   ]
  },
  {
   "cell_type": "code",
   "execution_count": 5,
   "metadata": {},
   "outputs": [
    {
     "data": {
      "text/plain": [
       "<matplotlib.axes._subplots.AxesSubplot at 0x10ef66dd0>"
      ]
     },
     "execution_count": 5,
     "metadata": {},
     "output_type": "execute_result"
    },
    {
     "data": {
      "image/png": "[encoded data removed]",
      "text/plain": [
       "<matplotlib.figure.Figure at 0x10c052410>"
      ]
     },
     "metadata": {},
     "output_type": "display_data"
    }
   ],
   "source": [
    "name_kent_prop = names.set_index(['name','year'])\n",
    "name_kent_prop.ix['Kent']['prop'].plot()"
   ]
  },
  {
   "cell_type": "code",
   "execution_count": 10,
   "metadata": {},
   "outputs": [
    {
     "data": {
      "text/plain": [
       "Index([u'a', u'b', u'c', u'd', u'e'], dtype='object')"
      ]
     },
     "execution_count": 10,
     "metadata": {},
     "output_type": "execute_result"
    }
   ],
   "source": [
    "s = Series([1,2,3,4,56], index=['a', 'b', 'c', 'd', 'e'])\n",
    "s.index"
   ]
  },
  {
   "cell_type": "code",
   "execution_count": 11,
   "metadata": {},
   "outputs": [
    {
     "ename": "SyntaxError",
     "evalue": "invalid syntax (<ipython-input-11-7f2f34c59337>, line 1)",
     "output_type": "error",
     "traceback": [
      "\u001b[0;36m  File \u001b[0;32m\"<ipython-input-11-7f2f34c59337>\"\u001b[0;36m, line \u001b[0;32m1\u001b[0m\n\u001b[0;31m    names.get_value(1:10, 'name')\u001b[0m\n\u001b[0m                     ^\u001b[0m\n\u001b[0;31mSyntaxError\u001b[0m\u001b[0;31m:\u001b[0m invalid syntax\n"
     ]
    }
   ],
   "source": [
    "names.get_value(1:10, 'name')"
   ]
  },
  {
   "cell_type": "code",
   "execution_count": 88,
   "metadata": {},
   "outputs": [
    {
     "data": {
      "text/html": [
       "<div>\n",
       "<table border=\"1\" class=\"dataframe\">\n",
       "  <thead>\n",
       "    <tr style=\"text-align: right;\">\n",
       "      <th></th>\n",
       "      <th>year</th>\n",
       "      <th>name</th>\n",
       "    </tr>\n",
       "  </thead>\n",
       "  <tbody>\n",
       "    <tr>\n",
       "      <th>1000</th>\n",
       "      <td>1881</td>\n",
       "      <td>John</td>\n",
       "    </tr>\n",
       "    <tr>\n",
       "      <th>1001</th>\n",
       "      <td>1881</td>\n",
       "      <td>William</td>\n",
       "    </tr>\n",
       "    <tr>\n",
       "      <th>1002</th>\n",
       "      <td>1881</td>\n",
       "      <td>James</td>\n",
       "    </tr>\n",
       "    <tr>\n",
       "      <th>1003</th>\n",
       "      <td>1881</td>\n",
       "      <td>George</td>\n",
       "    </tr>\n",
       "    <tr>\n",
       "      <th>1004</th>\n",
       "      <td>1881</td>\n",
       "      <td>Charles</td>\n",
       "    </tr>\n",
       "  </tbody>\n",
       "</table>\n",
       "</div>"
      ],
      "text/plain": [
       "      year     name\n",
       "1000  1881     John\n",
       "1001  1881  William\n",
       "1002  1881    James\n",
       "1003  1881   George\n",
       "1004  1881  Charles"
      ]
     },
     "execution_count": 88,
     "metadata": {},
     "output_type": "execute_result"
    }
   ],
   "source": [
    "names.ix[(names.year > 1880) & (names.year < 1900), ['year', 'name']].head()"
   ]
  },
  {
   "cell_type": "code",
   "execution_count": 18,
   "metadata": {},
   "outputs": [
    {
     "data": {
      "text/html": [
       "<div>\n",
       "<table border=\"1\" class=\"dataframe\">\n",
       "  <thead>\n",
       "    <tr style=\"text-align: right;\">\n",
       "      <th></th>\n",
       "      <th>a</th>\n",
       "      <th>b</th>\n",
       "      <th>c</th>\n",
       "    </tr>\n",
       "  </thead>\n",
       "  <tbody>\n",
       "    <tr>\n",
       "      <th>2001-01-01</th>\n",
       "      <td>2.443041</td>\n",
       "      <td>foo</td>\n",
       "      <td>1.359122</td>\n",
       "    </tr>\n",
       "    <tr>\n",
       "      <th>2001-01-02</th>\n",
       "      <td>1.619868</td>\n",
       "      <td>bar</td>\n",
       "      <td>-1.324221</td>\n",
       "    </tr>\n",
       "    <tr>\n",
       "      <th>2001-01-03</th>\n",
       "      <td>-0.839786</td>\n",
       "      <td>foo</td>\n",
       "      <td>0.081590</td>\n",
       "    </tr>\n",
       "    <tr>\n",
       "      <th>2001-01-04</th>\n",
       "      <td>0.020349</td>\n",
       "      <td>bar</td>\n",
       "      <td>-0.359353</td>\n",
       "    </tr>\n",
       "    <tr>\n",
       "      <th>2001-01-05</th>\n",
       "      <td>-0.607006</td>\n",
       "      <td>foo</td>\n",
       "      <td>-0.015606</td>\n",
       "    </tr>\n",
       "    <tr>\n",
       "      <th>2001-01-06</th>\n",
       "      <td>0.178601</td>\n",
       "      <td>bar</td>\n",
       "      <td>-0.522408</td>\n",
       "    </tr>\n",
       "  </tbody>\n",
       "</table>\n",
       "</div>"
      ],
      "text/plain": [
       "                   a    b         c\n",
       "2001-01-01  2.443041  foo  1.359122\n",
       "2001-01-02  1.619868  bar -1.324221\n",
       "2001-01-03 -0.839786  foo  0.081590\n",
       "2001-01-04  0.020349  bar -0.359353\n",
       "2001-01-05 -0.607006  foo -0.015606\n",
       "2001-01-06  0.178601  bar -0.522408"
      ]
     },
     "execution_count": 18,
     "metadata": {},
     "output_type": "execute_result"
    }
   ],
   "source": [
    "df = DataFrame({'a': np.random.randn(6),\n",
    "                'b': ['foo', 'bar'] * 3,\n",
    "                'c': np.random.randn(6)},\n",
    "               index=['2001-01-01', '2001-01-02', '2001-01-03', '2001-01-04', '2001-01-05', '2001-01-06'])\n",
    "df"
   ]
  },
  {
   "cell_type": "code",
   "execution_count": 19,
   "metadata": {},
   "outputs": [
    {
     "data": {
      "text/plain": [
       "Index([u'2001-01-01', u'2001-01-02', u'2001-01-03', u'2001-01-04',\n",
       "       u'2001-01-05', u'2001-01-06'],\n",
       "      dtype='object')"
      ]
     },
     "execution_count": 19,
     "metadata": {},
     "output_type": "execute_result"
    }
   ],
   "source": [
    "df.index"
   ]
  },
  {
   "cell_type": "code",
   "execution_count": 22,
   "metadata": {},
   "outputs": [
    {
     "data": {
      "text/plain": [
       "Index([u'a', u'b', u'c'], dtype='object')"
      ]
     },
     "execution_count": 22,
     "metadata": {},
     "output_type": "execute_result"
    }
   ],
   "source": [
    "df.columns"
   ]
  },
  {
   "cell_type": "code",
   "execution_count": 23,
   "metadata": {},
   "outputs": [
    {
     "data": {
      "text/html": [
       "<div>\n",
       "<table border=\"1\" class=\"dataframe\">\n",
       "  <thead>\n",
       "    <tr style=\"text-align: right;\">\n",
       "      <th></th>\n",
       "      <th>a</th>\n",
       "      <th>b</th>\n",
       "      <th>c</th>\n",
       "    </tr>\n",
       "    <tr>\n",
       "      <th>date</th>\n",
       "      <th></th>\n",
       "      <th></th>\n",
       "      <th></th>\n",
       "    </tr>\n",
       "  </thead>\n",
       "  <tbody>\n",
       "    <tr>\n",
       "      <th>2001-01-01</th>\n",
       "      <td>2.443041</td>\n",
       "      <td>foo</td>\n",
       "      <td>1.359122</td>\n",
       "    </tr>\n",
       "    <tr>\n",
       "      <th>2001-01-02</th>\n",
       "      <td>1.619868</td>\n",
       "      <td>bar</td>\n",
       "      <td>-1.324221</td>\n",
       "    </tr>\n",
       "    <tr>\n",
       "      <th>2001-01-03</th>\n",
       "      <td>-0.839786</td>\n",
       "      <td>foo</td>\n",
       "      <td>0.081590</td>\n",
       "    </tr>\n",
       "    <tr>\n",
       "      <th>2001-01-04</th>\n",
       "      <td>0.020349</td>\n",
       "      <td>bar</td>\n",
       "      <td>-0.359353</td>\n",
       "    </tr>\n",
       "    <tr>\n",
       "      <th>2001-01-05</th>\n",
       "      <td>-0.607006</td>\n",
       "      <td>foo</td>\n",
       "      <td>-0.015606</td>\n",
       "    </tr>\n",
       "    <tr>\n",
       "      <th>2001-01-06</th>\n",
       "      <td>0.178601</td>\n",
       "      <td>bar</td>\n",
       "      <td>-0.522408</td>\n",
       "    </tr>\n",
       "  </tbody>\n",
       "</table>\n",
       "</div>"
      ],
      "text/plain": [
       "                   a    b         c\n",
       "date                               \n",
       "2001-01-01  2.443041  foo  1.359122\n",
       "2001-01-02  1.619868  bar -1.324221\n",
       "2001-01-03 -0.839786  foo  0.081590\n",
       "2001-01-04  0.020349  bar -0.359353\n",
       "2001-01-05 -0.607006  foo -0.015606\n",
       "2001-01-06  0.178601  bar -0.522408"
      ]
     },
     "execution_count": 23,
     "metadata": {},
     "output_type": "execute_result"
    }
   ],
   "source": [
    "df.index.name = \"date\"\n",
    "df"
   ]
  },
  {
   "cell_type": "code",
   "execution_count": 26,
   "metadata": {},
   "outputs": [
    {
     "data": {
      "text/html": [
       "<div>\n",
       "<table border=\"1\" class=\"dataframe\">\n",
       "  <thead>\n",
       "    <tr style=\"text-align: right;\">\n",
       "      <th></th>\n",
       "      <th>a</th>\n",
       "      <th>b</th>\n",
       "      <th>c</th>\n",
       "    </tr>\n",
       "    <tr>\n",
       "      <th>date</th>\n",
       "      <th></th>\n",
       "      <th></th>\n",
       "      <th></th>\n",
       "    </tr>\n",
       "  </thead>\n",
       "  <tbody>\n",
       "    <tr>\n",
       "      <th>2001-01-01</th>\n",
       "      <td>2.443041</td>\n",
       "      <td>foo</td>\n",
       "      <td>1.359122</td>\n",
       "    </tr>\n",
       "    <tr>\n",
       "      <th>2001-01-02</th>\n",
       "      <td>1.619868</td>\n",
       "      <td>bar</td>\n",
       "      <td>-1.324221</td>\n",
       "    </tr>\n",
       "    <tr>\n",
       "      <th>2001-01-03</th>\n",
       "      <td>-0.839786</td>\n",
       "      <td>foo</td>\n",
       "      <td>0.081590</td>\n",
       "    </tr>\n",
       "  </tbody>\n",
       "</table>\n",
       "</div>"
      ],
      "text/plain": [
       "                   a    b         c\n",
       "date                               \n",
       "2001-01-01  2.443041  foo  1.359122\n",
       "2001-01-02  1.619868  bar -1.324221\n",
       "2001-01-03 -0.839786  foo  0.081590"
      ]
     },
     "execution_count": 26,
     "metadata": {},
     "output_type": "execute_result"
    }
   ],
   "source": [
    "df.ix['2001-01-01':'2001-01-03']"
   ]
  },
  {
   "cell_type": "code",
   "execution_count": 32,
   "metadata": {},
   "outputs": [
    {
     "data": {
      "text/html": [
       "<div>\n",
       "<table border=\"1\" class=\"dataframe\">\n",
       "  <thead>\n",
       "    <tr style=\"text-align: right;\">\n",
       "      <th></th>\n",
       "      <th>a</th>\n",
       "      <th>c</th>\n",
       "    </tr>\n",
       "    <tr>\n",
       "      <th>date</th>\n",
       "      <th></th>\n",
       "      <th></th>\n",
       "    </tr>\n",
       "  </thead>\n",
       "  <tbody>\n",
       "    <tr>\n",
       "      <th>2001-01-01</th>\n",
       "      <td>2.443041</td>\n",
       "      <td>1.359122</td>\n",
       "    </tr>\n",
       "    <tr>\n",
       "      <th>2001-01-02</th>\n",
       "      <td>1.619868</td>\n",
       "      <td>-1.324221</td>\n",
       "    </tr>\n",
       "    <tr>\n",
       "      <th>2001-01-03</th>\n",
       "      <td>-0.839786</td>\n",
       "      <td>0.081590</td>\n",
       "    </tr>\n",
       "    <tr>\n",
       "      <th>2001-01-04</th>\n",
       "      <td>0.020349</td>\n",
       "      <td>-0.359353</td>\n",
       "    </tr>\n",
       "    <tr>\n",
       "      <th>2001-01-05</th>\n",
       "      <td>-0.607006</td>\n",
       "      <td>-0.015606</td>\n",
       "    </tr>\n",
       "    <tr>\n",
       "      <th>2001-01-06</th>\n",
       "      <td>0.178601</td>\n",
       "      <td>-0.522408</td>\n",
       "    </tr>\n",
       "  </tbody>\n",
       "</table>\n",
       "</div>"
      ],
      "text/plain": [
       "                   a         c\n",
       "date                          \n",
       "2001-01-01  2.443041  1.359122\n",
       "2001-01-02  1.619868 -1.324221\n",
       "2001-01-03 -0.839786  0.081590\n",
       "2001-01-04  0.020349 -0.359353\n",
       "2001-01-05 -0.607006 -0.015606\n",
       "2001-01-06  0.178601 -0.522408"
      ]
     },
     "execution_count": 32,
     "metadata": {},
     "output_type": "execute_result"
    }
   ],
   "source": [
    "df"
   ]
  },
  {
   "cell_type": "code",
   "execution_count": 33,
   "metadata": {},
   "outputs": [
    {
     "data": {
      "text/html": [
       "<div>\n",
       "<table border=\"1\" class=\"dataframe\">\n",
       "  <thead>\n",
       "    <tr style=\"text-align: right;\">\n",
       "      <th></th>\n",
       "      <th>a</th>\n",
       "      <th>c</th>\n",
       "    </tr>\n",
       "    <tr>\n",
       "      <th>date</th>\n",
       "      <th></th>\n",
       "      <th></th>\n",
       "    </tr>\n",
       "  </thead>\n",
       "  <tbody>\n",
       "    <tr>\n",
       "      <th>2001-01-01</th>\n",
       "      <td>1.563023</td>\n",
       "      <td>1.165814</td>\n",
       "    </tr>\n",
       "    <tr>\n",
       "      <th>2001-01-02</th>\n",
       "      <td>1.272740</td>\n",
       "      <td>NaN</td>\n",
       "    </tr>\n",
       "    <tr>\n",
       "      <th>2001-01-03</th>\n",
       "      <td>NaN</td>\n",
       "      <td>0.285639</td>\n",
       "    </tr>\n",
       "    <tr>\n",
       "      <th>2001-01-04</th>\n",
       "      <td>0.142652</td>\n",
       "      <td>NaN</td>\n",
       "    </tr>\n",
       "    <tr>\n",
       "      <th>2001-01-05</th>\n",
       "      <td>NaN</td>\n",
       "      <td>NaN</td>\n",
       "    </tr>\n",
       "    <tr>\n",
       "      <th>2001-01-06</th>\n",
       "      <td>0.422612</td>\n",
       "      <td>NaN</td>\n",
       "    </tr>\n",
       "  </tbody>\n",
       "</table>\n",
       "</div>"
      ],
      "text/plain": [
       "                   a         c\n",
       "date                          \n",
       "2001-01-01  1.563023  1.165814\n",
       "2001-01-02  1.272740       NaN\n",
       "2001-01-03       NaN  0.285639\n",
       "2001-01-04  0.142652       NaN\n",
       "2001-01-05       NaN       NaN\n",
       "2001-01-06  0.422612       NaN"
      ]
     },
     "execution_count": 33,
     "metadata": {},
     "output_type": "execute_result"
    }
   ],
   "source": [
    "df.apply(np.sqrt)"
   ]
  },
  {
   "cell_type": "markdown",
   "metadata": {},
   "source": [
    "#### apply的用法，作用于DataFrame按照axis的值，0：往apply函数传入一列，1：往apply函数传入一行；\n",
    "#### 作用于Series时，往apply函数里面传入一个Series的元素"
   ]
  },
  {
   "cell_type": "code",
   "execution_count": 64,
   "metadata": {
    "collapsed": true
   },
   "outputs": [],
   "source": [
    "df = DataFrame({'a': np.random.randn(6),\n",
    "                'b': ['foo', 'bar'] * 3,\n",
    "                'c': np.random.randn(6)},\n",
    "               index=['2001-01-01', '2001-01-02', '2001-01-03', '2001-01-04', '2001-01-05', '2001-01-06'])"
   ]
  },
  {
   "cell_type": "code",
   "execution_count": 79,
   "metadata": {
    "collapsed": true
   },
   "outputs": [],
   "source": [
    "def get_favor(group):\n",
    "    a = group.a\n",
    "    b = group.b\n",
    "    if a > 1:\n",
    "        return a\n",
    "    else:\n",
    "        return b\n",
    "    \n",
    "def get_favor_col(group):\n",
    "    return sum(group)\n",
    "\n",
    "def get_favor_s(n):\n",
    "    return type(n)"
   ]
  },
  {
   "cell_type": "code",
   "execution_count": 66,
   "metadata": {},
   "outputs": [
    {
     "data": {
      "text/html": [
       "<div>\n",
       "<table border=\"1\" class=\"dataframe\">\n",
       "  <thead>\n",
       "    <tr style=\"text-align: right;\">\n",
       "      <th></th>\n",
       "      <th>a</th>\n",
       "      <th>b</th>\n",
       "      <th>c</th>\n",
       "    </tr>\n",
       "  </thead>\n",
       "  <tbody>\n",
       "    <tr>\n",
       "      <th>2001-01-01</th>\n",
       "      <td>-2.018512</td>\n",
       "      <td>foo</td>\n",
       "      <td>-1.499166</td>\n",
       "    </tr>\n",
       "    <tr>\n",
       "      <th>2001-01-02</th>\n",
       "      <td>-0.815660</td>\n",
       "      <td>bar</td>\n",
       "      <td>-0.505419</td>\n",
       "    </tr>\n",
       "    <tr>\n",
       "      <th>2001-01-03</th>\n",
       "      <td>-1.144341</td>\n",
       "      <td>foo</td>\n",
       "      <td>0.123415</td>\n",
       "    </tr>\n",
       "    <tr>\n",
       "      <th>2001-01-04</th>\n",
       "      <td>1.128768</td>\n",
       "      <td>bar</td>\n",
       "      <td>1.418112</td>\n",
       "    </tr>\n",
       "    <tr>\n",
       "      <th>2001-01-05</th>\n",
       "      <td>-0.911736</td>\n",
       "      <td>foo</td>\n",
       "      <td>-0.262926</td>\n",
       "    </tr>\n",
       "    <tr>\n",
       "      <th>2001-01-06</th>\n",
       "      <td>1.059380</td>\n",
       "      <td>bar</td>\n",
       "      <td>0.155207</td>\n",
       "    </tr>\n",
       "  </tbody>\n",
       "</table>\n",
       "</div>"
      ],
      "text/plain": [
       "                   a    b         c\n",
       "2001-01-01 -2.018512  foo -1.499166\n",
       "2001-01-02 -0.815660  bar -0.505419\n",
       "2001-01-03 -1.144341  foo  0.123415\n",
       "2001-01-04  1.128768  bar  1.418112\n",
       "2001-01-05 -0.911736  foo -0.262926\n",
       "2001-01-06  1.059380  bar  0.155207"
      ]
     },
     "execution_count": 66,
     "metadata": {},
     "output_type": "execute_result"
    }
   ],
   "source": [
    "df"
   ]
  },
  {
   "cell_type": "code",
   "execution_count": 75,
   "metadata": {},
   "outputs": [
    {
     "data": {
      "text/plain": [
       "2001-01-01        foo\n",
       "2001-01-02        bar\n",
       "2001-01-03        foo\n",
       "2001-01-04    1.12877\n",
       "2001-01-05        foo\n",
       "2001-01-06    1.05938\n",
       "dtype: object"
      ]
     },
     "execution_count": 75,
     "metadata": {},
     "output_type": "execute_result"
    }
   ],
   "source": [
    "df.apply(get_favor, axis=1)"
   ]
  },
  {
   "cell_type": "code",
   "execution_count": 81,
   "metadata": {},
   "outputs": [
    {
     "data": {
      "text/plain": [
       "a   -2.702101\n",
       "c   -0.570777\n",
       "dtype: float64"
      ]
     },
     "execution_count": 81,
     "metadata": {},
     "output_type": "execute_result"
    }
   ],
   "source": [
    "df[['a','c']].apply(get_favor_col, axis=0)"
   ]
  },
  {
   "cell_type": "code",
   "execution_count": 77,
   "metadata": {},
   "outputs": [
    {
     "data": {
      "text/plain": [
       "2001-01-01    <type 'float'>\n",
       "2001-01-02    <type 'float'>\n",
       "2001-01-03    <type 'float'>\n",
       "2001-01-04    <type 'float'>\n",
       "2001-01-05    <type 'float'>\n",
       "2001-01-06    <type 'float'>\n",
       "Name: a, dtype: object"
      ]
     },
     "execution_count": 77,
     "metadata": {},
     "output_type": "execute_result"
    }
   ],
   "source": [
    "df['a'].apply(get_favor_s)"
   ]
  },
  {
   "cell_type": "code",
   "execution_count": 84,
   "metadata": {},
   "outputs": [
    {
     "data": {
      "text/html": [
       "<div>\n",
       "<table border=\"1\" class=\"dataframe\">\n",
       "  <thead>\n",
       "    <tr style=\"text-align: right;\">\n",
       "      <th></th>\n",
       "      <th>a</th>\n",
       "      <th>b</th>\n",
       "      <th>c</th>\n",
       "    </tr>\n",
       "  </thead>\n",
       "  <tbody>\n",
       "    <tr>\n",
       "      <th>0</th>\n",
       "      <td>-2.018512</td>\n",
       "      <td>foo</td>\n",
       "      <td>-1.499166</td>\n",
       "    </tr>\n",
       "    <tr>\n",
       "      <th>1</th>\n",
       "      <td>-0.815660</td>\n",
       "      <td>bar</td>\n",
       "      <td>-0.505419</td>\n",
       "    </tr>\n",
       "    <tr>\n",
       "      <th>2</th>\n",
       "      <td>-1.144341</td>\n",
       "      <td>foo</td>\n",
       "      <td>0.123415</td>\n",
       "    </tr>\n",
       "    <tr>\n",
       "      <th>3</th>\n",
       "      <td>1.128768</td>\n",
       "      <td>bar</td>\n",
       "      <td>1.418112</td>\n",
       "    </tr>\n",
       "    <tr>\n",
       "      <th>4</th>\n",
       "      <td>-0.911736</td>\n",
       "      <td>foo</td>\n",
       "      <td>-0.262926</td>\n",
       "    </tr>\n",
       "    <tr>\n",
       "      <th>5</th>\n",
       "      <td>1.059380</td>\n",
       "      <td>bar</td>\n",
       "      <td>0.155207</td>\n",
       "    </tr>\n",
       "    <tr>\n",
       "      <th>6</th>\n",
       "      <td>-2.702101</td>\n",
       "      <td>NaN</td>\n",
       "      <td>-0.570777</td>\n",
       "    </tr>\n",
       "  </tbody>\n",
       "</table>\n",
       "</div>"
      ],
      "text/plain": [
       "          a    b         c\n",
       "0 -2.018512  foo -1.499166\n",
       "1 -0.815660  bar -0.505419\n",
       "2 -1.144341  foo  0.123415\n",
       "3  1.128768  bar  1.418112\n",
       "4 -0.911736  foo -0.262926\n",
       "5  1.059380  bar  0.155207\n",
       "6 -2.702101  NaN -0.570777"
      ]
     },
     "execution_count": 84,
     "metadata": {},
     "output_type": "execute_result"
    }
   ],
   "source": [
    "df.append(df[['a','c']].apply(get_favor_col, axis=0), ignore_index=True)"
   ]
  },
  {
   "cell_type": "markdown",
   "metadata": {},
   "source": [
    "#### 灵活的过滤、匹配方法，适当时候需要配合apply的使用"
   ]
  },
  {
   "cell_type": "code",
   "execution_count": 86,
   "metadata": {},
   "outputs": [
    {
     "data": {
      "text/plain": [
       "2001-01-01     True\n",
       "2001-01-02    False\n",
       "2001-01-03     True\n",
       "2001-01-04    False\n",
       "2001-01-05     True\n",
       "2001-01-06    False\n",
       "Name: b, dtype: bool"
      ]
     },
     "execution_count": 86,
     "metadata": {},
     "output_type": "execute_result"
    }
   ],
   "source": [
    "df['b'].str.startswith('f')"
   ]
  },
  {
   "cell_type": "code",
   "execution_count": 90,
   "metadata": {},
   "outputs": [
    {
     "data": {
      "text/plain": [
       "2001-01-03   -1.144341\n",
       "Name: a, dtype: float64"
      ]
     },
     "execution_count": 90,
     "metadata": {},
     "output_type": "execute_result"
    }
   ],
   "source": [
    "df[df.b.str.startswith('f')][df.c > 0]['a']"
   ]
  },
  {
   "cell_type": "code",
   "execution_count": 91,
   "metadata": {
    "collapsed": true
   },
   "outputs": [],
   "source": [
    "def my_filer(e):\n",
    "    return e.startswith('f')\n"
   ]
  },
  {
   "cell_type": "code",
   "execution_count": 92,
   "metadata": {},
   "outputs": [
    {
     "data": {
      "text/plain": [
       "2001-01-03   -1.144341\n",
       "Name: a, dtype: float64"
      ]
     },
     "execution_count": 92,
     "metadata": {},
     "output_type": "execute_result"
    }
   ],
   "source": [
    "df[df.b.apply(my_filer)][df.c > 0]['a']"
   ]
  },
  {
   "cell_type": "code",
   "execution_count": 93,
   "metadata": {},
   "outputs": [
    {
     "data": {
      "text/html": [
       "<div>\n",
       "<table border=\"1\" class=\"dataframe\">\n",
       "  <thead>\n",
       "    <tr style=\"text-align: right;\">\n",
       "      <th></th>\n",
       "      <th>a</th>\n",
       "      <th>b</th>\n",
       "      <th>c</th>\n",
       "    </tr>\n",
       "  </thead>\n",
       "  <tbody>\n",
       "    <tr>\n",
       "      <th>2001-01-01</th>\n",
       "      <td>-2.018512</td>\n",
       "      <td>foo</td>\n",
       "      <td>-1.499166</td>\n",
       "    </tr>\n",
       "    <tr>\n",
       "      <th>2001-01-02</th>\n",
       "      <td>-0.815660</td>\n",
       "      <td>bar</td>\n",
       "      <td>-0.505419</td>\n",
       "    </tr>\n",
       "    <tr>\n",
       "      <th>2001-01-03</th>\n",
       "      <td>-1.144341</td>\n",
       "      <td>foo</td>\n",
       "      <td>0.123415</td>\n",
       "    </tr>\n",
       "    <tr>\n",
       "      <th>2001-01-04</th>\n",
       "      <td>1.128768</td>\n",
       "      <td>bar</td>\n",
       "      <td>1.418112</td>\n",
       "    </tr>\n",
       "    <tr>\n",
       "      <th>2001-01-05</th>\n",
       "      <td>-0.911736</td>\n",
       "      <td>foo</td>\n",
       "      <td>-0.262926</td>\n",
       "    </tr>\n",
       "    <tr>\n",
       "      <th>2001-01-06</th>\n",
       "      <td>1.059380</td>\n",
       "      <td>bar</td>\n",
       "      <td>0.155207</td>\n",
       "    </tr>\n",
       "  </tbody>\n",
       "</table>\n",
       "</div>"
      ],
      "text/plain": [
       "                   a    b         c\n",
       "2001-01-01 -2.018512  foo -1.499166\n",
       "2001-01-02 -0.815660  bar -0.505419\n",
       "2001-01-03 -1.144341  foo  0.123415\n",
       "2001-01-04  1.128768  bar  1.418112\n",
       "2001-01-05 -0.911736  foo -0.262926\n",
       "2001-01-06  1.059380  bar  0.155207"
      ]
     },
     "execution_count": 93,
     "metadata": {},
     "output_type": "execute_result"
    }
   ],
   "source": [
    "df"
   ]
  },
  {
   "cell_type": "code",
   "execution_count": 98,
   "metadata": {},
   "outputs": [
    {
     "data": {
      "text/html": [
       "<div>\n",
       "<table border=\"1\" class=\"dataframe\">\n",
       "  <thead>\n",
       "    <tr style=\"text-align: right;\">\n",
       "      <th></th>\n",
       "      <th>bb</th>\n",
       "      <th>d</th>\n",
       "    </tr>\n",
       "  </thead>\n",
       "  <tbody>\n",
       "    <tr>\n",
       "      <th>0</th>\n",
       "      <td>foo</td>\n",
       "      <td>0</td>\n",
       "    </tr>\n",
       "    <tr>\n",
       "      <th>1</th>\n",
       "      <td>bar</td>\n",
       "      <td>1</td>\n",
       "    </tr>\n",
       "  </tbody>\n",
       "</table>\n",
       "</div>"
      ],
      "text/plain": [
       "    bb  d\n",
       "0  foo  0\n",
       "1  bar  1"
      ]
     },
     "execution_count": 98,
     "metadata": {},
     "output_type": "execute_result"
    }
   ],
   "source": [
    "df2 = DataFrame({\n",
    "    \"bb\":['foo','bar'],\n",
    "    \"d\":[0, 1]\n",
    "})\n",
    "df2"
   ]
  },
  {
   "cell_type": "markdown",
   "metadata": {},
   "source": [
    "#### merge的用法，left_on， right_on 指定链接的字段，index指定是否保留index（最左侧的index）"
   ]
  },
  {
   "cell_type": "code",
   "execution_count": 109,
   "metadata": {},
   "outputs": [
    {
     "data": {
      "text/html": [
       "<div>\n",
       "<table border=\"1\" class=\"dataframe\">\n",
       "  <thead>\n",
       "    <tr style=\"text-align: right;\">\n",
       "      <th></th>\n",
       "      <th>a</th>\n",
       "      <th>b</th>\n",
       "      <th>c</th>\n",
       "      <th>bb</th>\n",
       "      <th>d</th>\n",
       "    </tr>\n",
       "  </thead>\n",
       "  <tbody>\n",
       "    <tr>\n",
       "      <th>0</th>\n",
       "      <td>-2.018512</td>\n",
       "      <td>foo</td>\n",
       "      <td>-1.499166</td>\n",
       "      <td>foo</td>\n",
       "      <td>0</td>\n",
       "    </tr>\n",
       "    <tr>\n",
       "      <th>1</th>\n",
       "      <td>-0.815660</td>\n",
       "      <td>bar</td>\n",
       "      <td>-0.505419</td>\n",
       "      <td>bar</td>\n",
       "      <td>1</td>\n",
       "    </tr>\n",
       "    <tr>\n",
       "      <th>0</th>\n",
       "      <td>-1.144341</td>\n",
       "      <td>foo</td>\n",
       "      <td>0.123415</td>\n",
       "      <td>foo</td>\n",
       "      <td>0</td>\n",
       "    </tr>\n",
       "    <tr>\n",
       "      <th>1</th>\n",
       "      <td>1.128768</td>\n",
       "      <td>bar</td>\n",
       "      <td>1.418112</td>\n",
       "      <td>bar</td>\n",
       "      <td>1</td>\n",
       "    </tr>\n",
       "    <tr>\n",
       "      <th>0</th>\n",
       "      <td>-0.911736</td>\n",
       "      <td>foo</td>\n",
       "      <td>-0.262926</td>\n",
       "      <td>foo</td>\n",
       "      <td>0</td>\n",
       "    </tr>\n",
       "    <tr>\n",
       "      <th>1</th>\n",
       "      <td>1.059380</td>\n",
       "      <td>bar</td>\n",
       "      <td>0.155207</td>\n",
       "      <td>bar</td>\n",
       "      <td>1</td>\n",
       "    </tr>\n",
       "  </tbody>\n",
       "</table>\n",
       "</div>"
      ],
      "text/plain": [
       "          a    b         c   bb  d\n",
       "0 -2.018512  foo -1.499166  foo  0\n",
       "1 -0.815660  bar -0.505419  bar  1\n",
       "0 -1.144341  foo  0.123415  foo  0\n",
       "1  1.128768  bar  1.418112  bar  1\n",
       "0 -0.911736  foo -0.262926  foo  0\n",
       "1  1.059380  bar  0.155207  bar  1"
      ]
     },
     "execution_count": 109,
     "metadata": {},
     "output_type": "execute_result"
    }
   ],
   "source": [
    "merge(left=df, right=df2, left_on='b', right_on='bb', left_index=True, right_index=False, how='left', suffixes=['a','b'])"
   ]
  },
  {
   "cell_type": "code",
   "execution_count": 1,
   "metadata": {
    "collapsed": true
   },
   "outputs": [],
   "source": [
    "import os\n",
    "\n",
    "in_files = []\n",
    "for l in os.listdir('/Users/fangfeiguo/Desktop/landsat8/'):\n",
    "    if l == '.DS_Store':\n",
    "        continue\n",
    "    for file in os.listdir('/Users/fangfeiguo/Desktop/landsat8/' + l):\n",
    "        if file.endswith('.dat'):\n",
    "            in_files.append('/Users/fangfeiguo/Desktop/landsat8/' + l + '/' + file)"
   ]
  },
  {
   "cell_type": "code",
   "execution_count": 2,
   "metadata": {},
   "outputs": [
    {
     "data": {
      "text/plain": [
       "['/Users/fangfeiguo/Desktop/landsat8/20130426/20130426sub1.dat',\n",
       " '/Users/fangfeiguo/Desktop/landsat8/20130512/20130512sub1.dat',\n",
       " '/Users/fangfeiguo/Desktop/landsat8/20130528/20130528sub.dat',\n",
       " '/Users/fangfeiguo/Desktop/landsat8/20130613/20130613sub.dat',\n",
       " '/Users/fangfeiguo/Desktop/landsat8/20130816/20130816sub.dat',\n",
       " '/Users/fangfeiguo/Desktop/landsat8/20130901/20130901sub.dat',\n",
       " '/Users/fangfeiguo/Desktop/landsat8/20131003/20131003sub.dat',\n",
       " '/Users/fangfeiguo/Desktop/landsat8/20131019/20131019sub.dat',\n",
       " '/Users/fangfeiguo/Desktop/landsat8/20131104/20131104sub.dat',\n",
       " '/Users/fangfeiguo/Desktop/landsat8/20131120/20131120sub.dat',\n",
       " '/Users/fangfeiguo/Desktop/landsat8/20131206/20131206sub.dat',\n",
       " '/Users/fangfeiguo/Desktop/landsat8/20131222/20131222sub.dat',\n",
       " '/Users/fangfeiguo/Desktop/landsat8/subset1/subset5.dat']"
      ]
     },
     "execution_count": 2,
     "metadata": {},
     "output_type": "execute_result"
    }
   ],
   "source": [
    "in_files"
   ]
  },
  {
   "cell_type": "code",
   "execution_count": 3,
   "metadata": {},
   "outputs": [
    {
     "data": {
      "text/plain": [
       "[]"
      ]
     },
     "execution_count": 3,
     "metadata": {},
     "output_type": "execute_result"
    }
   ],
   "source": [
    "['/Users/fangfeiguo/Desktop/landsat8/' + l + '/' + file for file in [l for l in os.listdir('/Users/fangfeiguo/Desktop/landsat8/') if l != '.DS_Store'] if file.endswith('.dat')]"
   ]
  },
  {
   "cell_type": "code",
   "execution_count": 5,
   "metadata": {},
   "outputs": [
    {
     "data": {
      "text/plain": [
       "['/Users/fangfeiguo/Desktop/landsat8/20130426/20130426sub1.dat',\n",
       " '/Users/fangfeiguo/Desktop/landsat8/20130512/20130512sub1.dat',\n",
       " '/Users/fangfeiguo/Desktop/landsat8/20130528/20130528sub.dat',\n",
       " '/Users/fangfeiguo/Desktop/landsat8/20130613/20130613sub.dat',\n",
       " '/Users/fangfeiguo/Desktop/landsat8/20130816/20130816sub.dat',\n",
       " '/Users/fangfeiguo/Desktop/landsat8/20130901/20130901sub.dat',\n",
       " '/Users/fangfeiguo/Desktop/landsat8/20131003/20131003sub.dat',\n",
       " '/Users/fangfeiguo/Desktop/landsat8/20131019/20131019sub.dat',\n",
       " '/Users/fangfeiguo/Desktop/landsat8/20131104/20131104sub.dat',\n",
       " '/Users/fangfeiguo/Desktop/landsat8/20131120/20131120sub.dat',\n",
       " '/Users/fangfeiguo/Desktop/landsat8/20131206/20131206sub.dat',\n",
       " '/Users/fangfeiguo/Desktop/landsat8/20131222/20131222sub.dat',\n",
       " '/Users/fangfeiguo/Desktop/landsat8/subset1/subset5.dat']"
      ]
     },
     "execution_count": 5,
     "metadata": {},
     "output_type": "execute_result"
    }
   ],
   "source": [
    "base = '/Users/fangfeiguo/Desktop/landsat8/'\n",
    "[base + l + '/' + file for l in os.listdir(base) if l != '.DS_Store' for file in os.listdir(base + l) if file.endswith('.dat')]"
   ]
  },
  {
   "cell_type": "code",
   "execution_count": 10,
   "metadata": {},
   "outputs": [
    {
     "data": {
      "text/plain": [
       "1.5"
      ]
     },
     "execution_count": 10,
     "metadata": {},
     "output_type": "execute_result"
    }
   ],
   "source": [
    "def in_range(num, min_num, max_num):\n",
    "    return max_num if num > max_num else (min_num if num < min_num else num)\n",
    "in_range(1.5,1,2)"
   ]
  },
  {
   "cell_type": "code",
   "execution_count": null,
   "metadata": {
    "collapsed": true
   },
   "outputs": [],
   "source": []
  }
 ],
 "metadata": {
  "kernelspec": {
   "display_name": "Python 2",
   "language": "python",
   "name": "python2"
  },
  "language_info": {
   "codemirror_mode": {
    "name": "ipython",
    "version": 2
   },
   "file_extension": ".py",
   "mimetype": "text/x-python",
   "name": "python",
   "nbconvert_exporter": "python",
   "pygments_lexer": "ipython2",
   "version": "2.7.10"
  }
 },
 "nbformat": 4,
 "nbformat_minor": 2
}
