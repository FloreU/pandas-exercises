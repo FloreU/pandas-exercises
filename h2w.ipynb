{
 "cells": [
  {
   "cell_type": "code",
   "execution_count": 5,
   "metadata": {},
   "outputs": [],
   "source": [
    "from pandas import*\n",
    "import pandas\n",
    "# import matplotlib as mpl\n",
    "import numpy as np\n",
    "import math\n",
    "import sys\n",
    "# from mpl_toolkits.mplot3d import Axes3D\n",
    "# import matplotlib.pyplot as plt\n",
    "\n",
    "reload(sys) \n",
    "sys.setdefaultencoding('utf8')\n",
    "sys.getdefaultencoding()\n",
    "\n",
    "%matplotlib inline"
   ]
  },
  {
   "cell_type": "code",
   "execution_count": 6,
   "metadata": {
    "collapsed": true
   },
   "outputs": [],
   "source": [
    "h2w = read_csv('h2w.csv')\n",
    "points = read_csv('points.csv')"
   ]
  },
  {
   "cell_type": "code",
   "execution_count": 7,
   "metadata": {},
   "outputs": [
    {
     "data": {
      "text/html": [
       "<div>\n",
       "<table border=\"1\" class=\"dataframe\">\n",
       "  <thead>\n",
       "    <tr style=\"text-align: right;\">\n",
       "      <th></th>\n",
       "      <th>OBJECTID</th>\n",
       "      <th>GRID_ID_H</th>\n",
       "      <th>GRID_ID_W</th>\n",
       "      <th>HOME_NUM</th>\n",
       "      <th>RANDINT</th>\n",
       "    </tr>\n",
       "  </thead>\n",
       "  <tbody>\n",
       "    <tr>\n",
       "      <th>0</th>\n",
       "      <td>1</td>\n",
       "      <td>80801</td>\n",
       "      <td>77824</td>\n",
       "      <td>3</td>\n",
       "      <td>83</td>\n",
       "    </tr>\n",
       "    <tr>\n",
       "      <th>1</th>\n",
       "      <td>2</td>\n",
       "      <td>82503</td>\n",
       "      <td>88376</td>\n",
       "      <td>3</td>\n",
       "      <td>43</td>\n",
       "    </tr>\n",
       "    <tr>\n",
       "      <th>2</th>\n",
       "      <td>3</td>\n",
       "      <td>89421</td>\n",
       "      <td>94346</td>\n",
       "      <td>3</td>\n",
       "      <td>59</td>\n",
       "    </tr>\n",
       "    <tr>\n",
       "      <th>3</th>\n",
       "      <td>4</td>\n",
       "      <td>84083</td>\n",
       "      <td>84083</td>\n",
       "      <td>889</td>\n",
       "      <td>93</td>\n",
       "    </tr>\n",
       "    <tr>\n",
       "      <th>4</th>\n",
       "      <td>5</td>\n",
       "      <td>84878</td>\n",
       "      <td>62532</td>\n",
       "      <td>5</td>\n",
       "      <td>8</td>\n",
       "    </tr>\n",
       "  </tbody>\n",
       "</table>\n",
       "</div>"
      ],
      "text/plain": [
       "   OBJECTID  GRID_ID_H  GRID_ID_W  HOME_NUM  RANDINT\n",
       "0         1      80801      77824         3       83\n",
       "1         2      82503      88376         3       43\n",
       "2         3      89421      94346         3       59\n",
       "3         4      84083      84083       889       93\n",
       "4         5      84878      62532         5        8"
      ]
     },
     "execution_count": 7,
     "metadata": {},
     "output_type": "execute_result"
    }
   ],
   "source": [
    "h2w.head()"
   ]
  },
  {
   "cell_type": "code",
   "execution_count": 8,
   "metadata": {},
   "outputs": [
    {
     "data": {
      "text/html": [
       "<div>\n",
       "<table border=\"1\" class=\"dataframe\">\n",
       "  <thead>\n",
       "    <tr style=\"text-align: right;\">\n",
       "      <th></th>\n",
       "      <th>OBJECTID</th>\n",
       "      <th>grid_id</th>\n",
       "      <th>ORIG_FID</th>\n",
       "      <th>PX</th>\n",
       "      <th>PY</th>\n",
       "      <th>new_grid_id</th>\n",
       "    </tr>\n",
       "  </thead>\n",
       "  <tbody>\n",
       "    <tr>\n",
       "      <th>0</th>\n",
       "      <td>1</td>\n",
       "      <td>0.0</td>\n",
       "      <td>1</td>\n",
       "      <td>550878.022222</td>\n",
       "      <td>317245.787834</td>\n",
       "      <td>0</td>\n",
       "    </tr>\n",
       "    <tr>\n",
       "      <th>1</th>\n",
       "      <td>2</td>\n",
       "      <td>1.0</td>\n",
       "      <td>2</td>\n",
       "      <td>551094.771754</td>\n",
       "      <td>317246.788576</td>\n",
       "      <td>1</td>\n",
       "    </tr>\n",
       "    <tr>\n",
       "      <th>2</th>\n",
       "      <td>3</td>\n",
       "      <td>2.0</td>\n",
       "      <td>3</td>\n",
       "      <td>550660.283339</td>\n",
       "      <td>317460.448051</td>\n",
       "      <td>2</td>\n",
       "    </tr>\n",
       "    <tr>\n",
       "      <th>3</th>\n",
       "      <td>4</td>\n",
       "      <td>3.0</td>\n",
       "      <td>4</td>\n",
       "      <td>550877.028607</td>\n",
       "      <td>317461.444588</td>\n",
       "      <td>3</td>\n",
       "    </tr>\n",
       "    <tr>\n",
       "      <th>4</th>\n",
       "      <td>5</td>\n",
       "      <td>4.0</td>\n",
       "      <td>5</td>\n",
       "      <td>551093.773916</td>\n",
       "      <td>317462.445370</td>\n",
       "      <td>4</td>\n",
       "    </tr>\n",
       "  </tbody>\n",
       "</table>\n",
       "</div>"
      ],
      "text/plain": [
       "   OBJECTID  grid_id  ORIG_FID             PX             PY  new_grid_id\n",
       "0         1      0.0         1  550878.022222  317245.787834            0\n",
       "1         2      1.0         2  551094.771754  317246.788576            1\n",
       "2         3      2.0         3  550660.283339  317460.448051            2\n",
       "3         4      3.0         4  550877.028607  317461.444588            3\n",
       "4         5      4.0         5  551093.773916  317462.445370            4"
      ]
     },
     "execution_count": 8,
     "metadata": {},
     "output_type": "execute_result"
    }
   ],
   "source": [
    "points.head()"
   ]
  },
  {
   "cell_type": "code",
   "execution_count": 9,
   "metadata": {},
   "outputs": [
    {
     "data": {
      "text/html": [
       "<div>\n",
       "<table border=\"1\" class=\"dataframe\">\n",
       "  <thead>\n",
       "    <tr style=\"text-align: right;\">\n",
       "      <th></th>\n",
       "      <th>OBJECTID</th>\n",
       "      <th>GRID_ID_H</th>\n",
       "      <th>GRID_ID_W</th>\n",
       "      <th>HOME_NUM</th>\n",
       "      <th>RANDINT</th>\n",
       "      <th>PX_x</th>\n",
       "      <th>PY_x</th>\n",
       "      <th>PX_y</th>\n",
       "      <th>PY_y</th>\n",
       "    </tr>\n",
       "  </thead>\n",
       "  <tbody>\n",
       "    <tr>\n",
       "      <th>0</th>\n",
       "      <td>1</td>\n",
       "      <td>80801</td>\n",
       "      <td>77824</td>\n",
       "      <td>3</td>\n",
       "      <td>83</td>\n",
       "      <td>515239.467376</td>\n",
       "      <td>382505.130586</td>\n",
       "      <td>518259.101134</td>\n",
       "      <td>380580.221505</td>\n",
       "    </tr>\n",
       "    <tr>\n",
       "      <th>1</th>\n",
       "      <td>2</td>\n",
       "      <td>82503</td>\n",
       "      <td>88376</td>\n",
       "      <td>3</td>\n",
       "      <td>43</td>\n",
       "      <td>521054.625836</td>\n",
       "      <td>383586.822058</td>\n",
       "      <td>519755.322722</td>\n",
       "      <td>387227.908649</td>\n",
       "    </tr>\n",
       "    <tr>\n",
       "      <th>2</th>\n",
       "      <td>3</td>\n",
       "      <td>89421</td>\n",
       "      <td>94346</td>\n",
       "      <td>3</td>\n",
       "      <td>59</td>\n",
       "      <td>512647.686996</td>\n",
       "      <td>387860.011772</td>\n",
       "      <td>502525.710678</td>\n",
       "      <td>390638.027221</td>\n",
       "    </tr>\n",
       "    <tr>\n",
       "      <th>3</th>\n",
       "      <td>4</td>\n",
       "      <td>84083</td>\n",
       "      <td>84083</td>\n",
       "      <td>889</td>\n",
       "      <td>93</td>\n",
       "      <td>502742.591773</td>\n",
       "      <td>384638.211719</td>\n",
       "      <td>502742.591773</td>\n",
       "      <td>384638.211719</td>\n",
       "    </tr>\n",
       "    <tr>\n",
       "      <th>4</th>\n",
       "      <td>5</td>\n",
       "      <td>84878</td>\n",
       "      <td>62532</td>\n",
       "      <td>5</td>\n",
       "      <td>8</td>\n",
       "      <td>524713.537480</td>\n",
       "      <td>385095.050538</td>\n",
       "      <td>539842.446702</td>\n",
       "      <td>371414.225199</td>\n",
       "    </tr>\n",
       "  </tbody>\n",
       "</table>\n",
       "</div>"
      ],
      "text/plain": [
       "   OBJECTID  GRID_ID_H  GRID_ID_W  HOME_NUM  RANDINT           PX_x  \\\n",
       "0         1      80801      77824         3       83  515239.467376   \n",
       "1         2      82503      88376         3       43  521054.625836   \n",
       "2         3      89421      94346         3       59  512647.686996   \n",
       "3         4      84083      84083       889       93  502742.591773   \n",
       "4         5      84878      62532         5        8  524713.537480   \n",
       "\n",
       "            PY_x           PX_y           PY_y  \n",
       "0  382505.130586  518259.101134  380580.221505  \n",
       "1  383586.822058  519755.322722  387227.908649  \n",
       "2  387860.011772  502525.710678  390638.027221  \n",
       "3  384638.211719  502742.591773  384638.211719  \n",
       "4  385095.050538  539842.446702  371414.225199  "
      ]
     },
     "execution_count": 9,
     "metadata": {},
     "output_type": "execute_result"
    }
   ],
   "source": [
    "p = points[['PX','PY','new_grid_id']]\n",
    "h2w_xy = merge(left=h2w, right=p, left_on='GRID_ID_H', right_on='new_grid_id', how='left')\n",
    "h2w_xy = merge(left=h2w_xy, right=p, left_on='GRID_ID_W', right_on='new_grid_id', how='left')\n",
    "# del h2w_xy[['new_grid_id_x', 'new_grid_id_y']]\n",
    "del h2w_xy['new_grid_id_x']\n",
    "del h2w_xy['new_grid_id_y']\n",
    "h2w_xy.head()\n"
   ]
  },
  {
   "cell_type": "code",
   "execution_count": 10,
   "metadata": {
    "collapsed": true
   },
   "outputs": [],
   "source": [
    "def calculate_distance(row):\n",
    "    h_x, h_y, w_x, w_y = row.PX_x, row.PY_x, row.PX_y, row.PY_y\n",
    "    return math.sqrt((h_x - w_x)**2 + (h_y - w_y)**2)"
   ]
  },
  {
   "cell_type": "code",
   "execution_count": 11,
   "metadata": {},
   "outputs": [
    {
     "data": {
      "text/html": [
       "<div>\n",
       "<table border=\"1\" class=\"dataframe\">\n",
       "  <thead>\n",
       "    <tr style=\"text-align: right;\">\n",
       "      <th></th>\n",
       "      <th>OBJECTID</th>\n",
       "      <th>GRID_ID_H</th>\n",
       "      <th>GRID_ID_W</th>\n",
       "      <th>HOME_NUM</th>\n",
       "      <th>RANDINT</th>\n",
       "      <th>PX_x</th>\n",
       "      <th>PY_x</th>\n",
       "      <th>PX_y</th>\n",
       "      <th>PY_y</th>\n",
       "      <th>distance</th>\n",
       "      <th>distance2</th>\n",
       "    </tr>\n",
       "  </thead>\n",
       "  <tbody>\n",
       "    <tr>\n",
       "      <th>0</th>\n",
       "      <td>1</td>\n",
       "      <td>80801</td>\n",
       "      <td>77824</td>\n",
       "      <td>3</td>\n",
       "      <td>83</td>\n",
       "      <td>515239.467376</td>\n",
       "      <td>382505.130586</td>\n",
       "      <td>518259.101134</td>\n",
       "      <td>380580.221505</td>\n",
       "      <td>3580.986316</td>\n",
       "      <td>3580.986316</td>\n",
       "    </tr>\n",
       "    <tr>\n",
       "      <th>1</th>\n",
       "      <td>2</td>\n",
       "      <td>82503</td>\n",
       "      <td>88376</td>\n",
       "      <td>3</td>\n",
       "      <td>43</td>\n",
       "      <td>521054.625836</td>\n",
       "      <td>383586.822058</td>\n",
       "      <td>519755.322722</td>\n",
       "      <td>387227.908649</td>\n",
       "      <td>3865.966909</td>\n",
       "      <td>3865.966909</td>\n",
       "    </tr>\n",
       "    <tr>\n",
       "      <th>2</th>\n",
       "      <td>3</td>\n",
       "      <td>89421</td>\n",
       "      <td>94346</td>\n",
       "      <td>3</td>\n",
       "      <td>59</td>\n",
       "      <td>512647.686996</td>\n",
       "      <td>387860.011772</td>\n",
       "      <td>502525.710678</td>\n",
       "      <td>390638.027221</td>\n",
       "      <td>10496.274311</td>\n",
       "      <td>10496.274311</td>\n",
       "    </tr>\n",
       "    <tr>\n",
       "      <th>3</th>\n",
       "      <td>4</td>\n",
       "      <td>84083</td>\n",
       "      <td>84083</td>\n",
       "      <td>889</td>\n",
       "      <td>93</td>\n",
       "      <td>502742.591773</td>\n",
       "      <td>384638.211719</td>\n",
       "      <td>502742.591773</td>\n",
       "      <td>384638.211719</td>\n",
       "      <td>0.000000</td>\n",
       "      <td>0.000000</td>\n",
       "    </tr>\n",
       "    <tr>\n",
       "      <th>4</th>\n",
       "      <td>5</td>\n",
       "      <td>84878</td>\n",
       "      <td>62532</td>\n",
       "      <td>5</td>\n",
       "      <td>8</td>\n",
       "      <td>524713.537480</td>\n",
       "      <td>385095.050538</td>\n",
       "      <td>539842.446702</td>\n",
       "      <td>371414.225199</td>\n",
       "      <td>20397.276196</td>\n",
       "      <td>20397.276196</td>\n",
       "    </tr>\n",
       "  </tbody>\n",
       "</table>\n",
       "</div>"
      ],
      "text/plain": [
       "   OBJECTID  GRID_ID_H  GRID_ID_W  HOME_NUM  RANDINT           PX_x  \\\n",
       "0         1      80801      77824         3       83  515239.467376   \n",
       "1         2      82503      88376         3       43  521054.625836   \n",
       "2         3      89421      94346         3       59  512647.686996   \n",
       "3         4      84083      84083       889       93  502742.591773   \n",
       "4         5      84878      62532         5        8  524713.537480   \n",
       "\n",
       "            PY_x           PX_y           PY_y      distance     distance2  \n",
       "0  382505.130586  518259.101134  380580.221505   3580.986316   3580.986316  \n",
       "1  383586.822058  519755.322722  387227.908649   3865.966909   3865.966909  \n",
       "2  387860.011772  502525.710678  390638.027221  10496.274311  10496.274311  \n",
       "3  384638.211719  502742.591773  384638.211719      0.000000      0.000000  \n",
       "4  385095.050538  539842.446702  371414.225199  20397.276196  20397.276196  "
      ]
     },
     "execution_count": 11,
     "metadata": {},
     "output_type": "execute_result"
    }
   ],
   "source": [
    "h2w_xy['distance'] = h2w_xy.apply(calculate_distance, axis=1)\n",
    "h2w_xy['distance2'] = ((h2w_xy.PX_x - h2w_xy.PX_y)**2 + (h2w_xy.PY_x - h2w_xy.PY_y)**2)**0.5\n",
    "h2w_xy.head()"
   ]
  },
  {
   "cell_type": "code",
   "execution_count": 12,
   "metadata": {},
   "outputs": [
    {
     "data": {
      "text/html": [
       "<div>\n",
       "<table border=\"1\" class=\"dataframe\">\n",
       "  <thead>\n",
       "    <tr style=\"text-align: right;\">\n",
       "      <th></th>\n",
       "      <th>OBJECTID</th>\n",
       "      <th>GRID_ID_H</th>\n",
       "      <th>GRID_ID_W</th>\n",
       "      <th>HOME_NUM</th>\n",
       "      <th>RANDINT</th>\n",
       "      <th>PX_x</th>\n",
       "      <th>PY_x</th>\n",
       "      <th>PX_y</th>\n",
       "      <th>PY_y</th>\n",
       "      <th>distance</th>\n",
       "      <th>distance2</th>\n",
       "    </tr>\n",
       "  </thead>\n",
       "  <tbody>\n",
       "    <tr>\n",
       "      <th>0</th>\n",
       "      <td>1</td>\n",
       "      <td>80801</td>\n",
       "      <td>77824</td>\n",
       "      <td>3</td>\n",
       "      <td>83</td>\n",
       "      <td>515239.467376</td>\n",
       "      <td>382505.130586</td>\n",
       "      <td>518259.101134</td>\n",
       "      <td>380580.221505</td>\n",
       "      <td>3580.986316</td>\n",
       "      <td>3580.986316</td>\n",
       "    </tr>\n",
       "    <tr>\n",
       "      <th>1</th>\n",
       "      <td>2</td>\n",
       "      <td>82503</td>\n",
       "      <td>88376</td>\n",
       "      <td>3</td>\n",
       "      <td>43</td>\n",
       "      <td>521054.625836</td>\n",
       "      <td>383586.822058</td>\n",
       "      <td>519755.322722</td>\n",
       "      <td>387227.908649</td>\n",
       "      <td>3865.966909</td>\n",
       "      <td>3865.966909</td>\n",
       "    </tr>\n",
       "    <tr>\n",
       "      <th>2</th>\n",
       "      <td>3</td>\n",
       "      <td>89421</td>\n",
       "      <td>94346</td>\n",
       "      <td>3</td>\n",
       "      <td>59</td>\n",
       "      <td>512647.686996</td>\n",
       "      <td>387860.011772</td>\n",
       "      <td>502525.710678</td>\n",
       "      <td>390638.027221</td>\n",
       "      <td>10496.274311</td>\n",
       "      <td>10496.274311</td>\n",
       "    </tr>\n",
       "    <tr>\n",
       "      <th>3</th>\n",
       "      <td>4</td>\n",
       "      <td>84083</td>\n",
       "      <td>84083</td>\n",
       "      <td>889</td>\n",
       "      <td>93</td>\n",
       "      <td>502742.591773</td>\n",
       "      <td>384638.211719</td>\n",
       "      <td>502742.591773</td>\n",
       "      <td>384638.211719</td>\n",
       "      <td>0.000000</td>\n",
       "      <td>0.000000</td>\n",
       "    </tr>\n",
       "    <tr>\n",
       "      <th>4</th>\n",
       "      <td>5</td>\n",
       "      <td>84878</td>\n",
       "      <td>62532</td>\n",
       "      <td>5</td>\n",
       "      <td>8</td>\n",
       "      <td>524713.537480</td>\n",
       "      <td>385095.050538</td>\n",
       "      <td>539842.446702</td>\n",
       "      <td>371414.225199</td>\n",
       "      <td>20397.276196</td>\n",
       "      <td>20397.276196</td>\n",
       "    </tr>\n",
       "  </tbody>\n",
       "</table>\n",
       "</div>"
      ],
      "text/plain": [
       "   OBJECTID  GRID_ID_H  GRID_ID_W  HOME_NUM  RANDINT           PX_x  \\\n",
       "0         1      80801      77824         3       83  515239.467376   \n",
       "1         2      82503      88376         3       43  521054.625836   \n",
       "2         3      89421      94346         3       59  512647.686996   \n",
       "3         4      84083      84083       889       93  502742.591773   \n",
       "4         5      84878      62532         5        8  524713.537480   \n",
       "\n",
       "            PY_x           PX_y           PY_y      distance     distance2  \n",
       "0  382505.130586  518259.101134  380580.221505   3580.986316   3580.986316  \n",
       "1  383586.822058  519755.322722  387227.908649   3865.966909   3865.966909  \n",
       "2  387860.011772  502525.710678  390638.027221  10496.274311  10496.274311  \n",
       "3  384638.211719  502742.591773  384638.211719      0.000000      0.000000  \n",
       "4  385095.050538  539842.446702  371414.225199  20397.276196  20397.276196  "
      ]
     },
     "execution_count": 12,
     "metadata": {},
     "output_type": "execute_result"
    }
   ],
   "source": [
    "h2w_xy.head()"
   ]
  },
  {
   "cell_type": "code",
   "execution_count": 14,
   "metadata": {},
   "outputs": [
    {
     "data": {
      "text/plain": [
       "6371.9203093472224"
      ]
     },
     "execution_count": 14,
     "metadata": {},
     "output_type": "execute_result"
    }
   ],
   "source": [
    "sum(h2w_xy['HOME_NUM'] * h2w_xy['distance']) / sum(h2w_xy['HOME_NUM'])"
   ]
  },
  {
   "cell_type": "code",
   "execution_count": 32,
   "metadata": {
    "collapsed": true
   },
   "outputs": [],
   "source": [
    "grid_mean_distance = h2w_xy.groupby('GRID_ID_H')['distance'].mean()"
   ]
  },
  {
   "cell_type": "code",
   "execution_count": 33,
   "metadata": {},
   "outputs": [
    {
     "data": {
      "text/plain": [
       "GRID_ID_H\n",
       "17     29451.491966\n",
       "69     27287.311174\n",
       "97     35821.089555\n",
       "182        0.000000\n",
       "190    15724.667633\n",
       "Name: distance, dtype: float64"
      ]
     },
     "execution_count": 33,
     "metadata": {},
     "output_type": "execute_result"
    }
   ],
   "source": [
    "grid_mean_distance.head()"
   ]
  },
  {
   "cell_type": "code",
   "execution_count": 34,
   "metadata": {},
   "outputs": [
    {
     "data": {
      "text/html": [
       "<div>\n",
       "<table border=\"1\" class=\"dataframe\">\n",
       "  <thead>\n",
       "    <tr style=\"text-align: right;\">\n",
       "      <th></th>\n",
       "      <th>OBJECTID</th>\n",
       "      <th>grid_id</th>\n",
       "      <th>ORIG_FID</th>\n",
       "      <th>PX</th>\n",
       "      <th>PY</th>\n",
       "      <th>new_grid_id</th>\n",
       "      <th>distance</th>\n",
       "    </tr>\n",
       "  </thead>\n",
       "  <tbody>\n",
       "    <tr>\n",
       "      <th>0</th>\n",
       "      <td>1</td>\n",
       "      <td>0.0</td>\n",
       "      <td>1</td>\n",
       "      <td>550878.022222</td>\n",
       "      <td>317245.787834</td>\n",
       "      <td>0</td>\n",
       "      <td>NaN</td>\n",
       "    </tr>\n",
       "    <tr>\n",
       "      <th>1</th>\n",
       "      <td>2</td>\n",
       "      <td>1.0</td>\n",
       "      <td>2</td>\n",
       "      <td>551094.771754</td>\n",
       "      <td>317246.788576</td>\n",
       "      <td>1</td>\n",
       "      <td>NaN</td>\n",
       "    </tr>\n",
       "    <tr>\n",
       "      <th>2</th>\n",
       "      <td>3</td>\n",
       "      <td>2.0</td>\n",
       "      <td>3</td>\n",
       "      <td>550660.283339</td>\n",
       "      <td>317460.448051</td>\n",
       "      <td>2</td>\n",
       "      <td>NaN</td>\n",
       "    </tr>\n",
       "    <tr>\n",
       "      <th>3</th>\n",
       "      <td>4</td>\n",
       "      <td>3.0</td>\n",
       "      <td>4</td>\n",
       "      <td>550877.028607</td>\n",
       "      <td>317461.444588</td>\n",
       "      <td>3</td>\n",
       "      <td>NaN</td>\n",
       "    </tr>\n",
       "    <tr>\n",
       "      <th>4</th>\n",
       "      <td>5</td>\n",
       "      <td>4.0</td>\n",
       "      <td>5</td>\n",
       "      <td>551093.773916</td>\n",
       "      <td>317462.445370</td>\n",
       "      <td>4</td>\n",
       "      <td>NaN</td>\n",
       "    </tr>\n",
       "  </tbody>\n",
       "</table>\n",
       "</div>"
      ],
      "text/plain": [
       "   OBJECTID  grid_id  ORIG_FID             PX             PY  new_grid_id  \\\n",
       "0         1      0.0         1  550878.022222  317245.787834            0   \n",
       "1         2      1.0         2  551094.771754  317246.788576            1   \n",
       "2         3      2.0         3  550660.283339  317460.448051            2   \n",
       "3         4      3.0         4  550877.028607  317461.444588            3   \n",
       "4         5      4.0         5  551093.773916  317462.445370            4   \n",
       "\n",
       "   distance  \n",
       "0       NaN  \n",
       "1       NaN  \n",
       "2       NaN  \n",
       "3       NaN  \n",
       "4       NaN  "
      ]
     },
     "execution_count": 34,
     "metadata": {},
     "output_type": "execute_result"
    }
   ],
   "source": [
    "points['distance'] = grid_mean_distance\n",
    "points.head()"
   ]
  },
  {
   "cell_type": "code",
   "execution_count": 35,
   "metadata": {},
   "outputs": [
    {
     "data": {
      "text/html": [
       "<div>\n",
       "<table border=\"1\" class=\"dataframe\">\n",
       "  <thead>\n",
       "    <tr style=\"text-align: right;\">\n",
       "      <th></th>\n",
       "      <th>OBJECTID</th>\n",
       "      <th>grid_id</th>\n",
       "      <th>ORIG_FID</th>\n",
       "      <th>PX</th>\n",
       "      <th>PY</th>\n",
       "      <th>new_grid_id</th>\n",
       "      <th>distance</th>\n",
       "    </tr>\n",
       "  </thead>\n",
       "  <tbody>\n",
       "    <tr>\n",
       "      <th>0</th>\n",
       "      <td>1</td>\n",
       "      <td>0.0</td>\n",
       "      <td>1</td>\n",
       "      <td>550878.022222</td>\n",
       "      <td>317245.787834</td>\n",
       "      <td>0</td>\n",
       "      <td>0.0</td>\n",
       "    </tr>\n",
       "    <tr>\n",
       "      <th>1</th>\n",
       "      <td>2</td>\n",
       "      <td>1.0</td>\n",
       "      <td>2</td>\n",
       "      <td>551094.771754</td>\n",
       "      <td>317246.788576</td>\n",
       "      <td>1</td>\n",
       "      <td>0.0</td>\n",
       "    </tr>\n",
       "    <tr>\n",
       "      <th>2</th>\n",
       "      <td>3</td>\n",
       "      <td>2.0</td>\n",
       "      <td>3</td>\n",
       "      <td>550660.283339</td>\n",
       "      <td>317460.448051</td>\n",
       "      <td>2</td>\n",
       "      <td>0.0</td>\n",
       "    </tr>\n",
       "    <tr>\n",
       "      <th>3</th>\n",
       "      <td>4</td>\n",
       "      <td>3.0</td>\n",
       "      <td>4</td>\n",
       "      <td>550877.028607</td>\n",
       "      <td>317461.444588</td>\n",
       "      <td>3</td>\n",
       "      <td>0.0</td>\n",
       "    </tr>\n",
       "    <tr>\n",
       "      <th>4</th>\n",
       "      <td>5</td>\n",
       "      <td>4.0</td>\n",
       "      <td>5</td>\n",
       "      <td>551093.773916</td>\n",
       "      <td>317462.445370</td>\n",
       "      <td>4</td>\n",
       "      <td>0.0</td>\n",
       "    </tr>\n",
       "  </tbody>\n",
       "</table>\n",
       "</div>"
      ],
      "text/plain": [
       "   OBJECTID  grid_id  ORIG_FID             PX             PY  new_grid_id  \\\n",
       "0         1      0.0         1  550878.022222  317245.787834            0   \n",
       "1         2      1.0         2  551094.771754  317246.788576            1   \n",
       "2         3      2.0         3  550660.283339  317460.448051            2   \n",
       "3         4      3.0         4  550877.028607  317461.444588            3   \n",
       "4         5      4.0         5  551093.773916  317462.445370            4   \n",
       "\n",
       "   distance  \n",
       "0       0.0  \n",
       "1       0.0  \n",
       "2       0.0  \n",
       "3       0.0  \n",
       "4       0.0  "
      ]
     },
     "execution_count": 35,
     "metadata": {},
     "output_type": "execute_result"
    }
   ],
   "source": [
    "points['distance'] = points['distance'].fillna(0)\n",
    "points.head()"
   ]
  },
  {
   "cell_type": "code",
   "execution_count": 36,
   "metadata": {},
   "outputs": [
    {
     "data": {
      "text/plain": [
       "<matplotlib.axes._subplots.AxesSubplot at 0x109e1fe50>"
      ]
     },
     "execution_count": 36,
     "metadata": {},
     "output_type": "execute_result"
    },
    {
     "data": {
      "image/png": "[encoded data removed]",
      "text/plain": [
       "<matplotlib.figure.Figure at 0x1075240d0>"
      ]
     },
     "metadata": {},
     "output_type": "display_data"
    }
   ],
   "source": [
    "points.distance.plot()"
   ]
  },
  {
   "cell_type": "code",
   "execution_count": 37,
   "metadata": {},
   "outputs": [
    {
     "data": {
      "text/plain": [
       "<mpl_toolkits.mplot3d.art3d.Path3DCollection at 0x109e2fa90>"
      ]
     },
     "execution_count": 37,
     "metadata": {},
     "output_type": "execute_result"
    },
    {
     "data": {
      "image/png": "[encoded data removed]",
      "text/plain": [
       "<matplotlib.figure.Figure at 0x109e2fdd0>"
      ]
     },
     "metadata": {},
     "output_type": "display_data"
    }
   ],
   "source": [
    "x,y,z = points[points.distance > 0]['PX'], points[points.distance > 0]['PY'], points[points.distance > 0]['distance']\n",
    "ax=plt.subplot(111,projection='3d') #创建一个三维的绘图工程\n",
    "ax.scatter(x,y,z,c='r')"
   ]
  },
  {
   "cell_type": "code",
   "execution_count": 41,
   "metadata": {
    "collapsed": true
   },
   "outputs": [],
   "source": [
    "points[\"str\"] = \"haha_h\""
   ]
  },
  {
   "cell_type": "code",
   "execution_count": 42,
   "metadata": {},
   "outputs": [
    {
     "data": {
      "text/html": [
       "<div>\n",
       "<table border=\"1\" class=\"dataframe\">\n",
       "  <thead>\n",
       "    <tr style=\"text-align: right;\">\n",
       "      <th></th>\n",
       "      <th>OBJECTID</th>\n",
       "      <th>grid_id</th>\n",
       "      <th>ORIG_FID</th>\n",
       "      <th>PX</th>\n",
       "      <th>PY</th>\n",
       "      <th>new_grid_id</th>\n",
       "      <th>distance</th>\n",
       "      <th>str</th>\n",
       "    </tr>\n",
       "  </thead>\n",
       "  <tbody>\n",
       "    <tr>\n",
       "      <th>0</th>\n",
       "      <td>1</td>\n",
       "      <td>0.0</td>\n",
       "      <td>1</td>\n",
       "      <td>550878.022222</td>\n",
       "      <td>317245.787834</td>\n",
       "      <td>0</td>\n",
       "      <td>0.0</td>\n",
       "      <td>haha_h</td>\n",
       "    </tr>\n",
       "    <tr>\n",
       "      <th>1</th>\n",
       "      <td>2</td>\n",
       "      <td>1.0</td>\n",
       "      <td>2</td>\n",
       "      <td>551094.771754</td>\n",
       "      <td>317246.788576</td>\n",
       "      <td>1</td>\n",
       "      <td>0.0</td>\n",
       "      <td>haha_h</td>\n",
       "    </tr>\n",
       "    <tr>\n",
       "      <th>2</th>\n",
       "      <td>3</td>\n",
       "      <td>2.0</td>\n",
       "      <td>3</td>\n",
       "      <td>550660.283339</td>\n",
       "      <td>317460.448051</td>\n",
       "      <td>2</td>\n",
       "      <td>0.0</td>\n",
       "      <td>haha_h</td>\n",
       "    </tr>\n",
       "    <tr>\n",
       "      <th>3</th>\n",
       "      <td>4</td>\n",
       "      <td>3.0</td>\n",
       "      <td>4</td>\n",
       "      <td>550877.028607</td>\n",
       "      <td>317461.444588</td>\n",
       "      <td>3</td>\n",
       "      <td>0.0</td>\n",
       "      <td>haha_h</td>\n",
       "    </tr>\n",
       "    <tr>\n",
       "      <th>4</th>\n",
       "      <td>5</td>\n",
       "      <td>4.0</td>\n",
       "      <td>5</td>\n",
       "      <td>551093.773916</td>\n",
       "      <td>317462.445370</td>\n",
       "      <td>4</td>\n",
       "      <td>0.0</td>\n",
       "      <td>haha_h</td>\n",
       "    </tr>\n",
       "  </tbody>\n",
       "</table>\n",
       "</div>"
      ],
      "text/plain": [
       "   OBJECTID  grid_id  ORIG_FID             PX             PY  new_grid_id  \\\n",
       "0         1      0.0         1  550878.022222  317245.787834            0   \n",
       "1         2      1.0         2  551094.771754  317246.788576            1   \n",
       "2         3      2.0         3  550660.283339  317460.448051            2   \n",
       "3         4      3.0         4  550877.028607  317461.444588            3   \n",
       "4         5      4.0         5  551093.773916  317462.445370            4   \n",
       "\n",
       "   distance     str  \n",
       "0       0.0  haha_h  \n",
       "1       0.0  haha_h  \n",
       "2       0.0  haha_h  \n",
       "3       0.0  haha_h  \n",
       "4       0.0  haha_h  "
      ]
     },
     "execution_count": 42,
     "metadata": {},
     "output_type": "execute_result"
    }
   ],
   "source": [
    "points.head()"
   ]
  },
  {
   "cell_type": "code",
   "execution_count": 53,
   "metadata": {},
   "outputs": [
    {
     "data": {
      "text/plain": [
       "0         [haha, h]\n",
       "1         [haha, h]\n",
       "2         [haha, h]\n",
       "3         [haha, h]\n",
       "4         [haha, h]\n",
       "5         [haha, h]\n",
       "6         [haha, h]\n",
       "7         [haha, h]\n",
       "8         [haha, h]\n",
       "9         [haha, h]\n",
       "10        [haha, h]\n",
       "11        [haha, h]\n",
       "12        [haha, h]\n",
       "13        [haha, h]\n",
       "14        [haha, h]\n",
       "15        [haha, h]\n",
       "16        [haha, h]\n",
       "17        [haha, h]\n",
       "18        [haha, h]\n",
       "19        [haha, h]\n",
       "20        [haha, h]\n",
       "21        [haha, h]\n",
       "22        [haha, h]\n",
       "23        [haha, h]\n",
       "24        [haha, h]\n",
       "25        [haha, h]\n",
       "26        [haha, h]\n",
       "27        [haha, h]\n",
       "28        [haha, h]\n",
       "29        [haha, h]\n",
       "            ...    \n",
       "185894    [haha, h]\n",
       "185895    [haha, h]\n",
       "185896    [haha, h]\n",
       "185897    [haha, h]\n",
       "185898    [haha, h]\n",
       "185899    [haha, h]\n",
       "185900    [haha, h]\n",
       "185901    [haha, h]\n",
       "185902    [haha, h]\n",
       "185903    [haha, h]\n",
       "185904    [haha, h]\n",
       "185905    [haha, h]\n",
       "185906    [haha, h]\n",
       "185907    [haha, h]\n",
       "185908    [haha, h]\n",
       "185909    [haha, h]\n",
       "185910    [haha, h]\n",
       "185911    [haha, h]\n",
       "185912    [haha, h]\n",
       "185913    [haha, h]\n",
       "185914    [haha, h]\n",
       "185915    [haha, h]\n",
       "185916    [haha, h]\n",
       "185917    [haha, h]\n",
       "185918    [haha, h]\n",
       "185919    [haha, h]\n",
       "185920    [haha, h]\n",
       "185921    [haha, h]\n",
       "185922    [haha, h]\n",
       "185923    [haha, h]\n",
       "Name: str, dtype: object"
      ]
     },
     "execution_count": 53,
     "metadata": {},
     "output_type": "execute_result"
    }
   ],
   "source": [
    "points[\"str\"].str.split(\"_\")\n"
   ]
  },
  {
   "cell_type": "code",
   "execution_count": 49,
   "metadata": {},
   "outputs": [
    {
     "data": {
      "text/plain": [
       "['aa', 'a']"
      ]
     },
     "execution_count": 49,
     "metadata": {},
     "output_type": "execute_result"
    }
   ],
   "source": [
    "\"aa_a\".split(\"_\")"
   ]
  },
  {
   "cell_type": "code",
   "execution_count": null,
   "metadata": {
    "collapsed": true
   },
   "outputs": [],
   "source": []
  }
 ],
 "metadata": {
  "kernelspec": {
   "display_name": "Python 2",
   "language": "python",
   "name": "python2"
  },
  "language_info": {
   "codemirror_mode": {
    "name": "ipython",
    "version": 2
   },
   "file_extension": ".py",
   "mimetype": "text/x-python",
   "name": "python",
   "nbconvert_exporter": "python",
   "pygments_lexer": "ipython2",
   "version": "2.7.10"
  }
 },
 "nbformat": 4,
 "nbformat_minor": 2
}
